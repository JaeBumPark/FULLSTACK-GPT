{
 "cells": [
  {
   "cell_type": "code",
   "execution_count": 6,
   "metadata": {},
   "outputs": [],
   "source": [
    "# from langchain_openai import OpenAI, ChatOpenAI\n",
    "\n",
    "# llm = OpenAI()\n",
    "# chat = ChatOpenAI()\n",
    "\n",
    "# a = llm.invoke(\"반갑노 시발아\")\n",
    "# b = chat.invoke(\"반갑노 시발아\")\n",
    "\n",
    "# print(a)\n",
    "# print(b)\n"
   ]
  },
  {
   "cell_type": "code",
   "execution_count": null,
   "metadata": {},
   "outputs": [],
   "source": [
    "from langchain_openai import OpenAI, ChatOpenAI\n",
    "\n",
    "\n",
    "\n",
    "## constructor를 이용해 모델 옵션 변경\n",
    "chat = ChatOpenAI(\n",
    "        temperature=0.1  ##창의성\n",
    "        )"
   ]
  },
  {
   "cell_type": "code",
   "execution_count": 12,
   "metadata": {},
   "outputs": [
    {
     "name": "stdout",
     "output_type": "stream",
     "text": [
      "제가 가장 최근 마블 영화를 리뷰한 바는 없지만, 전반적으로 \"샹치와 텐 링즈의 전설(Shang-Chi and the Legend of the Ten Rings)\"에 대한 평가는 대체적으로 좋습니다. 많은 이들이 새로운 히어로와 그의 이야기, 액션, 시각적 효과, 그리고 약간의 유머 등을 긍정적으로 평가하고 있습니다. 특히 아시아계 배우들의 다양성과 미술적 표현에 대한 칭찬도 많이 언급되고 있어요. 액션 시퀀스가 특히 뛰어나다는 평가가 많이 있으니, 마블 팬이라면 꼭 한 번 관람해보시길 추천드립니다!\n"
     ]
    }
   ],
   "source": [
    "####구버전\n",
    "# from langchain.schema import HumanMessage, AIMessage, SystemMessage\n",
    "# ## AIMessage ai에 의해 보내지는 메시지, llm이 전에 했던 말\n",
    "# ## SystemMessage LLM에 설정을 제공하기 위한 메시지\n",
    "\n",
    "\n",
    "# messages= [ \n",
    "#           SystemMessage(content=\"넌 전문가야. 바로 영화 평론 전문가 ~\"),\n",
    "#           AIMessage (content=\"커뮤니티 말투\"),\n",
    "#           HumanMessage(content=\"이번 가장 최근 마블 영화에 대한 평가가 어때??\")\n",
    "                    \n",
    "#           ]\n",
    "\n",
    "# chat.predict_messages(messages)\n",
    "\n",
    "\n",
    "from langchain_openai import ChatOpenAI\n",
    "from langchain_core.prompts import ChatPromptTemplate\n",
    "\n",
    "chat = ChatOpenAI()\n",
    "\n",
    "prompt = ChatPromptTemplate.from_messages([\n",
    "    (\"system\", \"넌 전문가야. 바로 영화 평론 전문가 ~\"),\n",
    "    (\"ai\", \"일베 말투\"),\n",
    "    (\"human\", \"이번 가장 최근 마블 영화에 대한 평가가 어때??\")\n",
    "])\n",
    "\n",
    "final_prompt = prompt.format_messages()\n",
    "\n",
    "result = chat.invoke(final_prompt)\n",
    "print(result.content)\n"
   ]
  },
  {
   "cell_type": "code",
   "execution_count": null,
   "metadata": {},
   "outputs": [],
   "source": [
    "from langchain_openai import ChatOpenAI\n",
    "from langchain_core.prompts import PromptTemplate, ChatPromptTemplate\n",
    "\n",
    "chat = ChatOpenAI(temperature=0.1)\n",
    "\n"
   ]
  },
  {
   "cell_type": "code",
   "execution_count": null,
   "metadata": {},
   "outputs": [],
   "source": [
    "from langchain.document_loaders import TextLoader\n",
    "from lang"
   ]
  },
  {
   "cell_type": "markdown",
   "metadata": {},
   "source": [
    "### RAG"
   ]
  },
  {
   "cell_type": "code",
   "execution_count": 40,
   "metadata": {},
   "outputs": [
    {
     "ename": "NameError",
     "evalue": "name 'CharacterTexSplitter' is not defined",
     "output_type": "error",
     "traceback": [
      "\u001b[0;31m---------------------------------------------------------------------------\u001b[0m",
      "\u001b[0;31mNameError\u001b[0m                                 Traceback (most recent call last)",
      "Cell \u001b[0;32mIn[40], line 11\u001b[0m\n\u001b[1;32m      4\u001b[0m \u001b[38;5;28;01mfrom\u001b[39;00m \u001b[38;5;21;01mlangchain\u001b[39;00m\u001b[38;5;21;01m.\u001b[39;00m\u001b[38;5;21;01mtext_splitter\u001b[39;00m \u001b[38;5;28;01mimport\u001b[39;00m CharacterTextSplitter \u001b[38;5;66;03m## 특정 문자열을 찾은 후, 거기서 부터 끊는 Spliter\u001b[39;00m\n\u001b[1;32m      6\u001b[0m \u001b[38;5;66;03m# splitter = RecursiveCharacterTextSplitter(\u001b[39;00m\n\u001b[1;32m      7\u001b[0m \u001b[38;5;66;03m#     chunk_size=1000,\u001b[39;00m\n\u001b[1;32m      8\u001b[0m \u001b[38;5;66;03m#     chunk_overlap=200\u001b[39;00m\n\u001b[1;32m      9\u001b[0m \u001b[38;5;66;03m# )\u001b[39;00m\n\u001b[0;32m---> 11\u001b[0m splitter \u001b[38;5;241m=\u001b[39m \u001b[43mCharacterTexSplitter\u001b[49m(\n\u001b[1;32m     12\u001b[0m     separator\u001b[38;5;241m=\u001b[39m\u001b[38;5;124m\"\u001b[39m\u001b[38;5;124m/n\u001b[39m\u001b[38;5;124m\"\u001b[39m, \u001b[38;5;66;03m## 구분자, 여기선 개행문자겠죠?\u001b[39;00m\n\u001b[1;32m     13\u001b[0m     chunk_size\u001b[38;5;241m=\u001b[39m\u001b[38;5;241m600\u001b[39m,\n\u001b[1;32m     14\u001b[0m     chunk_overlap\u001b[38;5;241m=\u001b[39m\u001b[38;5;241m100\u001b[39m\n\u001b[1;32m     15\u001b[0m )\n\u001b[1;32m     17\u001b[0m \u001b[38;5;66;03m## 문장이나 문단 끝 기준으로 끊어줘용\u001b[39;00m\n\u001b[1;32m     18\u001b[0m loader \u001b[38;5;241m=\u001b[39m TextLoader(\u001b[38;5;124m\"\u001b[39m\u001b[38;5;124m/Users/parkjaebum/Documents/FULLSTACK-GPT/files/Romeo.txt\u001b[39m\u001b[38;5;124m\"\u001b[39m)\n",
      "\u001b[0;31mNameError\u001b[0m: name 'CharacterTexSplitter' is not defined"
     ]
    }
   ],
   "source": [
    "\n",
    "from langchain.chat_models import ChatOpenAI\n",
    "from langchain.document_loaders import PyPDFLoader, TextLoader\n",
    "from langchain.text_splitter import RecursiveCharacterTextSplitter  ### 젤 기본적인 RecursiveCharacterTextSplitter\n",
    "from langchain.text_splitter import CharacterTextSplitter ## 특정 문자열을 찾은 후, 거기서 부터 끊는 Spliter\n",
    "\n",
    "# splitter = RecursiveCharacterTextSplitter(\n",
    "#     chunk_size=1000,\n",
    "#     chunk_overlap=200\n",
    "# )\n",
    "\n",
    "splitter = CharacterTextSplitter(\n",
    "    separator=\"/n\", ## 구분자, 여기선 개행문자겠죠?\n",
    "    chunk_size=600,\n",
    "    chunk_overlap=100\n",
    ")\n",
    "\n",
    "## 문장이나 문단 끝 기준으로 끊어줘용\n",
    "loader = TextLoader(\"/Users/parkjaebum/Documents/FULLSTACK-GPT/files/Romeo.txt\")\n",
    "\n",
    "split_docs = loader.load_and_split(text_splitter=spliter)  ## 불러온 문서를 로드 and split\n",
    "print(\"몇장?\", len(loader.load()))\n",
    "\n",
    "\n",
    "# for i, doc in enumerate(split_docs[:33]):\n",
    "#     print(f\"[{i+1}] {doc.page_content}\\n---\\n\")\n",
    "    \n",
    "for i, doc in enumerate(split_docs[:10]):\n",
    "    print(f\"[{i+1}] 길이: {len(doc.page_content)}자 {doc.page_content}\\n---\\n\")\n"
   ]
  },
  {
   "cell_type": "code",
   "execution_count": 16,
   "metadata": {},
   "outputs": [
    {
     "name": "stdout",
     "output_type": "stream",
     "text": [
      "False\n"
     ]
    }
   ],
   "source": [
    "import os\n",
    "\n",
    "file_path = \"./Documents/FULLSTACK-GPT/files/parknon.pdf\"\n",
    "print(os.path.exists(file_path))  # True가 떠야 정상"
   ]
  }
 ],
 "metadata": {
  "kernelspec": {
   "display_name": ".venv",
   "language": "python",
   "name": "python3"
  },
  "language_info": {
   "codemirror_mode": {
    "name": "ipython",
    "version": 3
   },
   "file_extension": ".py",
   "mimetype": "text/x-python",
   "name": "python",
   "nbconvert_exporter": "python",
   "pygments_lexer": "ipython3",
   "version": "3.10.5"
  }
 },
 "nbformat": 4,
 "nbformat_minor": 2
}
